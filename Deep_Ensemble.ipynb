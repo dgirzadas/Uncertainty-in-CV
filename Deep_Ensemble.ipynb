{
 "cells": [
  {
   "cell_type": "markdown",
   "metadata": {},
   "source": [
    "# Uncertainty in Computer Vision\n",
    "\n",
    "## Deep Ensemble\n",
    "\n",
    "This notebook contains an implementation of the Deep Ensemble model - a collection of convolutional neural networks (LeNet), trained with random weight initialisation. Their softmax-scaled predictions are averaged for the final prediction.\n",
    "\n",
    "**This notebook is meant for demonstration purposes and does not include optimal training parameters**\n",
    "\n",
    "_Author: Domantas Giržadas, 2022_"
   ]
  },
  {
   "cell_type": "code",
   "execution_count": 1,
   "metadata": {},
   "outputs": [],
   "source": [
    "import matplotlib.pyplot as plt\n",
    "import numpy as np\n",
    "\n",
    "import torch\n",
    "import torchvision\n",
    "import torchvision.transforms as transforms\n",
    "\n",
    "# For SSL certificate error during dataset download\n",
    "import ssl\n",
    "ssl._create_default_https_context = ssl._create_unverified_context"
   ]
  },
  {
   "cell_type": "code",
   "execution_count": 2,
   "metadata": {},
   "outputs": [
    {
     "name": "stdout",
     "output_type": "stream",
     "text": [
      "Current device: NVIDIA GeForce RTX 3080\n"
     ]
    }
   ],
   "source": [
    "# Setting up the cuda device for performing computations on a GPU\n",
    "if torch.cuda.is_available():  \n",
    "    device = torch.device(\"cuda:0\")\n",
    "    print(f\"Current device: {torch.cuda.get_device_name(device)}\")\n",
    "else:\n",
    "    device = torch.device(\"cpu\")\n",
    "    print(f\"Current device: CPU\")"
   ]
  },
  {
   "cell_type": "code",
   "execution_count": 3,
   "metadata": {},
   "outputs": [
    {
     "name": "stdout",
     "output_type": "stream",
     "text": [
      "Files already downloaded and verified\n",
      "Files already downloaded and verified\n"
     ]
    }
   ],
   "source": [
    "# Initialising the dataset loaders for training and test sets\n",
    "\n",
    "transform = transforms.Compose(\n",
    "    [transforms.ToTensor(),\n",
    "     transforms.Normalize((0.5, 0.5, 0.5), (0.5, 0.5, 0.5))])\n",
    "\n",
    "trainset = torchvision.datasets.CIFAR10(root='data/', train=True,\n",
    "                                        download=True, transform=transform)\n",
    "trainloader = torch.utils.data.DataLoader(trainset, batch_size=5,\n",
    "                                          shuffle=True, num_workers=2)\n",
    "\n",
    "testset = torchvision.datasets.CIFAR10(root='data/', train=False,\n",
    "                                       download=True, transform=transform)\n",
    "testloader = torch.utils.data.DataLoader(testset, batch_size=5,\n",
    "                                         shuffle=False, num_workers=2)\n",
    "\n",
    "classes = ('plane', 'car', 'bird', 'cat',\n",
    "           'deer', 'dog', 'frog', 'horse', 'ship', 'truck')"
   ]
  },
  {
   "cell_type": "code",
   "execution_count": 4,
   "metadata": {},
   "outputs": [],
   "source": [
    "def imshow(img):\n",
    "    \"\"\"\n",
    "    Function for visualising the images from the CIFAR-10 dataset\n",
    "    \"\"\"\n",
    "    img = img / 2 + 0.5     # (unnormalizing)\n",
    "    npimg = img.numpy()\n",
    "    plt.imshow(np.transpose(npimg, (1, 2, 0)))\n",
    "    plt.show()"
   ]
  },
  {
   "cell_type": "code",
   "execution_count": 5,
   "metadata": {},
   "outputs": [
    {
     "data": {
      "image/png": "[encoded data removed]",
      "text/plain": [
       "<Figure size 720x360 with 1 Axes>"
      ]
     },
     "metadata": {
      "needs_background": "light"
     },
     "output_type": "display_data"
    },
    {
     "name": "stdout",
     "output_type": "stream",
     "text": [
      "        plane          bird          ship           cat         plane\n"
     ]
    }
   ],
   "source": [
    "# Getting a batch of images from the dataset and visualising them\n",
    "dataiter = iter(trainloader)\n",
    "images, labels = dataiter.next()\n",
    "\n",
    "plt.figure(figsize=(10,5))\n",
    "imshow(torchvision.utils.make_grid(images))\n",
    "# Print image labels\n",
    "print(' '.join('%13s' % classes[labels[j]] for j in range(len(images))))"
   ]
  },
  {
   "cell_type": "markdown",
   "metadata": {},
   "source": [
    "# Deep Ensemble"
   ]
  },
  {
   "cell_type": "code",
   "execution_count": 5,
   "metadata": {},
   "outputs": [],
   "source": [
    "import torch.nn as nn\n",
    "import torch.nn.functional as F\n",
    "import torchvision.models as models\n",
    "\n",
    "ens_size = 10 # Number of ensemble members\n",
    "\n",
    "# Initialising the CNN\n",
    "class LeNet_ens(nn.Module):\n",
    "    def __init__(self):\n",
    "        super(LeNet_ens, self).__init__()\n",
    "        self.conv1 = nn.Conv2d(3, 6, 5)\n",
    "        self.pool = nn.MaxPool2d(2, 2)\n",
    "        self.conv2 = nn.Conv2d(6, 16, 5)\n",
    "        self.fc1 = nn.Linear(16 * 5 * 5, 120)\n",
    "        self.fc2 = nn.Linear(120, 84)\n",
    "        self.fc3 = nn.Linear(84, 10)\n",
    "\n",
    "    def forward(self, x):\n",
    "        x = self.pool(F.relu(self.conv1(x)))\n",
    "        x = self.pool(F.relu(self.conv2(x)))\n",
    "        x = x.view(-1, 16 * 5 * 5)\n",
    "        x = F.relu(self.fc1(x))\n",
    "        x = F.relu(self.fc2(x))\n",
    "        x = self.fc3(x)\n",
    "        return x\n",
    "\n",
    "# Initialising an ensemble of networks\n",
    "nets = [LeNet_ens().to(device) for _ in range(ens_size)]"
   ]
  },
  {
   "cell_type": "markdown",
   "metadata": {},
   "source": [
    "## Training"
   ]
  },
  {
   "cell_type": "code",
   "execution_count": 7,
   "metadata": {},
   "outputs": [],
   "source": [
    "# Initialising the training parameters\n",
    "import torch.optim as optim\n",
    "\n",
    "criterion = nn.CrossEntropyLoss()\n",
    "\n",
    "max_iteration = len(trainloader) * 20\n",
    "lambda_poly = lambda iteration: pow((1.0 - iteration / max_iteration), 0.9)\n",
    "\n",
    "optimizers = [optim.Adam(nets[i].parameters()) for i in range(ens_size)]\n",
    "schedulers = [torch.optim.lr_scheduler.LambdaLR(optimizers[i], lr_lambda=lambda_poly) for i in range(ens_size)]"
   ]
  },
  {
   "cell_type": "code",
   "execution_count": 8,
   "metadata": {
    "scrolled": true
   },
   "outputs": [
    {
     "name": "stderr",
     "output_type": "stream",
     "text": [
      "D:\\Anaconda\\lib\\site-packages\\torch\\nn\\functional.py:718: UserWarning: Named tensors and all their associated APIs are an experimental feature and subject to change. Please do not use them for anything important until they are released as stable. (Triggered internally at  ..\\c10/core/TensorImpl.h:1156.)\n",
      "  return torch.max_pool2d(input, kernel_size, stride, padding, dilation, ceil_mode)\n"
     ]
    },
    {
     "name": "stdout",
     "output_type": "stream",
     "text": [
      "[1,  2000] losses:\n",
      "[1.835278   1.82114487 1.83530995 1.79477371 1.83928954 1.79768824\n",
      " 1.86726288 1.82289351 1.79138371 1.80409294]\n",
      "[1,  4000] losses:\n",
      "[1.5418209  1.54016304 1.53645448 1.5296799  1.53791699 1.5382005\n",
      " 1.52412882 1.55246642 1.52130188 1.53412901]\n",
      "[1,  6000] losses:\n",
      "[1.44722529 1.48566382 1.47303452 1.47253881 1.45559061 1.48103818\n",
      " 1.44839114 1.49248718 1.44322927 1.49040141]\n",
      "[1,  8000] losses:\n",
      "[1.39309889 1.42184939 1.43442767 1.43635265 1.39334279 1.43253681\n",
      " 1.39894594 1.43590456 1.40032858 1.43588569]\n",
      "[1, 10000] losses:\n",
      "[1.34614634 1.38212318 1.3917615  1.39110225 1.33984526 1.39378305\n",
      " 1.34669633 1.39392925 1.34507676 1.41161908]\n",
      "[2,  2000] losses:\n",
      "[1.2625506  1.29277685 1.30100683 1.30455934 1.24959873 1.30413409\n",
      " 1.26278107 1.30377524 1.25688806 1.32847001]\n",
      "[2,  4000] losses:\n",
      "[1.23246626 1.27650346 1.28535042 1.28938692 1.22869331 1.2682619\n",
      " 1.25638951 1.29049884 1.2472834  1.32205711]\n",
      "[2,  6000] losses:\n",
      "[1.21983731 1.26496406 1.27984747 1.28359232 1.24354301 1.26628671\n",
      " 1.2406513  1.28180784 1.24034629 1.30375269]\n",
      "[2,  8000] losses:\n",
      "[1.19468371 1.23862773 1.24805197 1.25738538 1.2118625  1.234554\n",
      " 1.23508234 1.26522487 1.21982911 1.30097725]\n",
      "[2, 10000] losses:\n",
      "[1.17807696 1.21308414 1.23426387 1.23086636 1.18915404 1.21573926\n",
      " 1.20364905 1.23898579 1.20268534 1.28685882]\n",
      "[3,  2000] losses:\n",
      "[1.11643068 1.14030448 1.16626485 1.16648186 1.11853978 1.13319675\n",
      " 1.15085052 1.16582688 1.12114045 1.20254141]\n",
      "[3,  4000] losses:\n",
      "[1.11503632 1.13791583 1.14913964 1.15772744 1.12628728 1.14235636\n",
      " 1.14513695 1.166817   1.12193968 1.20341974]\n",
      "[3,  6000] losses:\n",
      "[1.10466567 1.13897335 1.15137875 1.15108081 1.11188944 1.1270441\n",
      " 1.14148987 1.1570913  1.12395137 1.20396009]\n",
      "[3,  8000] losses:\n",
      "[1.10687001 1.14042586 1.15156128 1.15584218 1.11430852 1.12539067\n",
      " 1.13989856 1.17017706 1.12477455 1.20056403]\n",
      "[3, 10000] losses:\n",
      "[1.09377354 1.13512259 1.13533286 1.1356186  1.10537571 1.12709815\n",
      " 1.12161086 1.15169209 1.11220386 1.18924916]\n",
      "[4,  2000] losses:\n",
      "[1.03754386 1.05867313 1.08398086 1.07743173 1.03029371 1.06192669\n",
      " 1.08596662 1.08366021 1.03921978 1.13059887]\n",
      "[4,  4000] losses:\n",
      "[1.004452   1.02857712 1.05823697 1.0546775  1.01682579 1.02452717\n",
      " 1.04086158 1.06017748 1.01496012 1.10089511]\n",
      "[4,  6000] losses:\n",
      "[1.0453378  1.06072445 1.07037369 1.07554732 1.04053474 1.06610705\n",
      " 1.08025305 1.09520217 1.05859268 1.13494053]\n",
      "[4,  8000] losses:\n",
      "[1.0374464  1.05249156 1.06903488 1.07655784 1.05154868 1.05442332\n",
      " 1.0810169  1.098178   1.03962233 1.13805307]\n",
      "[4, 10000] losses:\n",
      "[1.03801622 1.04992847 1.05590308 1.06603406 1.04070995 1.05232289\n",
      " 1.07688595 1.07182272 1.0481151  1.11515931]\n",
      "[5,  2000] losses:\n",
      "[0.96692685 0.98787122 0.99274383 0.9937529  0.96346513 0.99783254\n",
      " 1.00633653 1.02597925 0.97031015 1.04385256]\n",
      "[5,  4000] losses:\n",
      "[0.97004416 0.98427773 1.00906129 1.00630524 0.97954252 0.99791207\n",
      " 1.03493746 1.02752906 0.98011227 1.06230285]\n",
      "[5,  6000] losses:\n",
      "[0.96871419 0.98242559 1.01231059 1.006947   0.98239603 0.98466029\n",
      " 1.01851891 1.02119707 0.98046329 1.06509929]\n",
      "[5,  8000] losses:\n",
      "[0.9862437  0.98859793 1.00381469 1.01056572 0.97766038 0.97695281\n",
      " 1.02026788 1.0124134  0.99172617 1.05778433]\n",
      "[5, 10000] losses:\n",
      "[0.98505449 0.99690307 1.00900117 1.00543508 0.97647467 1.00361777\n",
      " 1.022903   1.01461413 0.99234651 1.05058379]\n",
      "[6,  2000] losses:\n",
      "[0.90226387 0.90406553 0.92810397 0.93207403 0.89767486 0.91916571\n",
      " 0.93958391 0.94307278 0.91863263 0.97414786]\n",
      "[6,  4000] losses:\n",
      "[0.92492482 0.91562961 0.95342579 0.94742738 0.91595127 0.92335614\n",
      " 0.97518279 0.95911191 0.92342855 0.98223851]\n",
      "[6,  6000] losses:\n",
      "[0.91459905 0.91487634 0.93969689 0.94146792 0.91005237 0.92478801\n",
      " 0.96311816 0.96132887 0.9294945  1.00148962]\n",
      "[6,  8000] losses:\n",
      "[0.9523612  0.94337126 0.9796338  0.96250819 0.9488888  0.95609442\n",
      " 0.99084372 0.98637499 0.94528123 1.00925139]\n",
      "[6, 10000] losses:\n",
      "[0.93675834 0.94022679 0.96724233 0.96418512 0.94466826 0.95633167\n",
      " 0.98056664 0.9792931  0.94560416 1.00647656]\n",
      "[7,  2000] losses:\n",
      "[0.85250266 0.84192139 0.87948127 0.86662548 0.85967207 0.86711199\n",
      " 0.90465318 0.90005081 0.87160669 0.92160643]\n",
      "[7,  4000] losses:\n",
      "[0.85556028 0.84737356 0.89050982 0.8723669  0.85993661 0.86777429\n",
      " 0.91329651 0.89595498 0.86818878 0.90723465]\n",
      "[7,  6000] losses:\n",
      "[0.9098462  0.90780345 0.93639848 0.92330682 0.87655898 0.91364006\n",
      " 0.95185926 0.94378635 0.90068819 0.9610205 ]\n",
      "[7,  8000] losses:\n",
      "[0.89066097 0.8855314  0.91570657 0.91172624 0.89176293 0.90688031\n",
      " 0.94620721 0.92407981 0.88330602 0.9486367 ]\n",
      "[7, 10000] losses:\n",
      "[0.90419129 0.89991914 0.9268506  0.92108685 0.89156012 0.91343736\n",
      " 0.94813137 0.92910498 0.90419553 0.96261574]\n",
      "[8,  2000] losses:\n",
      "[0.81834845 0.81738383 0.84012827 0.8300241  0.81215187 0.83028967\n",
      " 0.87612753 0.84215473 0.81016283 0.87404788]\n",
      "[8,  4000] losses:\n",
      "[0.83777148 0.81847361 0.86598392 0.84856253 0.83367157 0.84806524\n",
      " 0.88949223 0.88166668 0.84186566 0.8903491 ]\n",
      "[8,  6000] losses:\n",
      "[0.84905498 0.8387926  0.86979086 0.84449768 0.82344899 0.8536172\n",
      " 0.88564924 0.86324535 0.83340697 0.8895324 ]\n",
      "[8,  8000] losses:\n",
      "[0.85843699 0.82326718 0.87321211 0.8694215  0.84410854 0.87030871\n",
      " 0.90006085 0.87472322 0.85439371 0.90299038]\n",
      "[8, 10000] losses:\n",
      "[0.84804304 0.84019408 0.87950766 0.85987348 0.83636085 0.85593205\n",
      " 0.89822928 0.89167746 0.86269839 0.9071715 ]\n",
      "[9,  2000] losses:\n",
      "[0.77986886 0.75400079 0.80596973 0.77391741 0.75352502 0.78961994\n",
      " 0.83871117 0.80488092 0.76873787 0.81173514]\n",
      "[9,  4000] losses:\n",
      "[0.78844158 0.75865685 0.80835653 0.78380054 0.77100043 0.79036215\n",
      " 0.84307864 0.80374337 0.781063   0.82501324]\n",
      "[9,  6000] losses:\n",
      "[0.81735309 0.78206411 0.83402291 0.81596767 0.80261288 0.83715657\n",
      " 0.8588316  0.83749364 0.81781667 0.85992489]\n",
      "[9,  8000] losses:\n",
      "[0.80646966 0.79753512 0.8462488  0.82606901 0.79347047 0.81434207\n",
      " 0.84772967 0.8348291  0.80262505 0.85371508]\n",
      "[9, 10000] losses:\n",
      "[0.843172   0.81853068 0.86402343 0.8401776  0.82851091 0.83490745\n",
      " 0.89199346 0.86734935 0.82621264 0.87196943]\n",
      "[10,  2000] losses:\n",
      "[0.74330985 0.71505733 0.77334496 0.74249067 0.7212802  0.74513741\n",
      " 0.81061326 0.77440144 0.73256456 0.77297803]\n",
      "[10,  4000] losses:\n",
      "[0.76308088 0.73327533 0.7967975  0.75552259 0.74336721 0.75502825\n",
      " 0.8163018  0.78697875 0.74179746 0.78634752]\n",
      "[10,  6000] losses:\n",
      "[0.77313312 0.74080086 0.79849205 0.76804348 0.74669023 0.78144554\n",
      " 0.82275203 0.7873475  0.77383026 0.81613945]\n",
      "[10,  8000] losses:\n",
      "[0.77554683 0.7607988  0.80588635 0.76063108 0.75740389 0.78112507\n",
      " 0.81996693 0.80983457 0.77239134 0.80926157]\n",
      "[10, 10000] losses:\n",
      "[0.79239639 0.75937411 0.8086716  0.78838574 0.76708946 0.78239013\n",
      " 0.8173556  0.80261268 0.76893202 0.8148209 ]\n",
      "[11,  2000] losses:\n",
      "[0.69265091 0.64527351 0.72077785 0.67921774 0.66515002 0.69280766\n",
      " 0.75624682 0.7030607  0.67257881 0.7165014 ]\n",
      "[11,  4000] losses:\n",
      "[0.71872479 0.70604899 0.75048956 0.71269201 0.6985019  0.71995056\n",
      " 0.78014228 0.7410127  0.72099045 0.74201253]\n",
      "[11,  6000] losses:\n",
      "[0.73605445 0.70606151 0.76728994 0.73752422 0.72027417 0.73248418\n",
      " 0.79837907 0.75358048 0.72728582 0.77019813]\n",
      "[11,  8000] losses:\n",
      "[0.76634682 0.71807426 0.79361036 0.75084884 0.73210871 0.76751086\n",
      " 0.80389202 0.77912983 0.73340706 0.79495531]\n",
      "[11, 10000] losses:\n",
      "[0.74781281 0.71045408 0.77352849 0.73073186 0.71760747 0.75088032\n",
      " 0.8029814  0.77575715 0.73950295 0.77813997]\n",
      "[12,  2000] losses:\n",
      "[0.66376648 0.62430945 0.70166643 0.64759147 0.64681353 0.67206304\n",
      " 0.72050306 0.67830123 0.64973458 0.67832776]\n",
      "[12,  4000] losses:\n",
      "[0.70297642 0.63895528 0.71871485 0.67447962 0.65827336 0.69509472\n",
      " 0.7463511  0.71126214 0.68341949 0.71567124]\n",
      "[12,  6000] losses:\n",
      "[0.69800294 0.65542558 0.72593655 0.68381982 0.6770317  0.68874759\n",
      " 0.74762681 0.71906978 0.68802724 0.71965968]\n",
      "[12,  8000] losses:\n",
      "[0.70966768 0.67811097 0.74368329 0.70422209 0.68656107 0.70434245\n",
      " 0.76941287 0.72091581 0.6759959  0.72812104]\n",
      "[12, 10000] losses:\n",
      "[0.7109411  0.67597626 0.75021981 0.6935826  0.67266493 0.70121563\n",
      " 0.76961581 0.73380566 0.69550881 0.74323937]\n",
      "[13,  2000] losses:\n",
      "[0.6414084  0.58774114 0.67716826 0.61710397 0.60926832 0.63315832\n",
      " 0.68748369 0.63731331 0.61817024 0.64689636]\n",
      "[13,  4000] losses:\n",
      "[0.64359962 0.60486299 0.69014535 0.62745941 0.624509   0.65101348\n",
      " 0.7271907  0.66657615 0.63547832 0.67556801]\n"
     ]
    },
    {
     "name": "stdout",
     "output_type": "stream",
     "text": [
      "[13,  6000] losses:\n",
      "[0.67340479 0.62321998 0.69524434 0.64428541 0.63838217 0.66510134\n",
      " 0.73605689 0.68060747 0.6393497  0.6862742 ]\n",
      "[13,  8000] losses:\n",
      "[0.6742875  0.6193532  0.72015356 0.65836317 0.63062721 0.65493532\n",
      " 0.71731372 0.69048449 0.64738587 0.66873472]\n",
      "[13, 10000] losses:\n",
      "[0.66881164 0.62646439 0.68652929 0.66033625 0.64585744 0.6720947\n",
      " 0.72447855 0.68154484 0.65293234 0.69350397]\n",
      "[14,  2000] losses:\n",
      "[0.60248079 0.54950406 0.64362024 0.57776363 0.56711198 0.59016608\n",
      " 0.67046102 0.6171075  0.57671868 0.60765357]\n",
      "[14,  4000] losses:\n",
      "[0.6061569  0.54705033 0.63498207 0.58315974 0.57396339 0.59556569\n",
      " 0.66084597 0.61841803 0.58207782 0.6082683 ]\n",
      "[14,  6000] losses:\n",
      "[0.6254011  0.58079156 0.67548688 0.60472993 0.59161792 0.62047667\n",
      " 0.69173587 0.64507329 0.60349882 0.64141378]\n",
      "[14,  8000] losses:\n",
      "[0.64155964 0.59269183 0.65499569 0.60331681 0.60231916 0.62908573\n",
      " 0.69183482 0.64649583 0.60087468 0.64616038]\n",
      "[14, 10000] losses:\n",
      "[0.64476469 0.58367615 0.68916339 0.61528824 0.61640635 0.65419071\n",
      " 0.71791649 0.65274694 0.62607188 0.66918192]\n",
      "[15,  2000] losses:\n",
      "[0.57333347 0.49550551 0.61723569 0.53888216 0.53158576 0.54724088\n",
      " 0.62705946 0.58149464 0.53582049 0.56962748]\n",
      "[15,  4000] losses:\n",
      "[0.58420559 0.52450629 0.61356612 0.549891   0.54918811 0.56523934\n",
      " 0.63908529 0.59176869 0.55293837 0.5938656 ]\n",
      "[15,  6000] losses:\n",
      "[0.5939041  0.53384087 0.62678554 0.55270551 0.55249788 0.57784878\n",
      " 0.65382733 0.59698307 0.56029648 0.58716733]\n",
      "[15,  8000] losses:\n",
      "[0.60500997 0.54486494 0.63521235 0.5744691  0.56885859 0.60550334\n",
      " 0.67036896 0.61313361 0.57446037 0.60962704]\n",
      "[15, 10000] losses:\n",
      "[0.601711   0.54723576 0.64411983 0.5754618  0.56360821 0.59538697\n",
      " 0.67655812 0.61592934 0.57731974 0.60435063]\n",
      "[16,  2000] losses:\n",
      "[0.53296902 0.46278366 0.58195343 0.50006989 0.48971455 0.52247681\n",
      " 0.59381979 0.53136824 0.49983011 0.53709383]\n",
      "[16,  4000] losses:\n",
      "[0.55016049 0.46894576 0.57570491 0.50709169 0.49999348 0.52760999\n",
      " 0.6187051  0.55522692 0.51046152 0.53253837]\n",
      "[16,  6000] losses:\n",
      "[0.55036731 0.5072349  0.59451266 0.51016883 0.5136636  0.55883704\n",
      " 0.62518145 0.56279919 0.52751813 0.5668024 ]\n",
      "[16,  8000] losses:\n",
      "[0.58294088 0.50479357 0.61446488 0.53687261 0.53496581 0.5583746\n",
      " 0.63620682 0.57475968 0.54263241 0.57773003]\n",
      "[16, 10000] losses:\n",
      "[0.56285159 0.49484248 0.60289205 0.53457369 0.52997982 0.5445821\n",
      " 0.63981718 0.57892892 0.5317281  0.55627683]\n",
      "[17,  2000] losses:\n",
      "[0.50152389 0.42392547 0.55416928 0.46946624 0.46079312 0.48936277\n",
      " 0.57862795 0.51118007 0.46732632 0.49374909]\n",
      "[17,  4000] losses:\n",
      "[0.50003268 0.43467406 0.53411297 0.46255555 0.46090298 0.48767646\n",
      " 0.57771832 0.50332137 0.47165049 0.49560204]\n",
      "[17,  6000] losses:\n",
      "[0.52018132 0.45652405 0.55946334 0.4775257  0.48163212 0.50901853\n",
      " 0.58136509 0.53163396 0.48767189 0.51398939]\n",
      "[17,  8000] losses:\n",
      "[0.54205655 0.46161178 0.56485638 0.48857264 0.48688723 0.51196258\n",
      " 0.59810465 0.52586923 0.49052126 0.52371481]\n",
      "[17, 10000] losses:\n",
      "[0.54334344 0.46397909 0.59241434 0.50039059 0.50042849 0.5258515\n",
      " 0.61445134 0.54165381 0.50659833 0.53855104]\n",
      "[18,  2000] losses:\n",
      "[0.47501478 0.38923864 0.51576001 0.41951722 0.42278335 0.45226383\n",
      " 0.54642877 0.4713999  0.43151412 0.45274871]\n",
      "[18,  4000] losses:\n",
      "[0.49060707 0.40425734 0.53120885 0.45147964 0.45173792 0.47161688\n",
      " 0.55567056 0.49058928 0.45519499 0.4771618 ]\n",
      "[18,  6000] losses:\n",
      "[0.48692846 0.41270076 0.52456232 0.43749843 0.43466651 0.47958766\n",
      " 0.55301486 0.47892369 0.4405052  0.48206872]\n",
      "[18,  8000] losses:\n",
      "[0.48997857 0.41755375 0.53378961 0.45073926 0.4422643  0.47085813\n",
      " 0.57155183 0.50250386 0.45576418 0.47259026]\n",
      "[18, 10000] losses:\n",
      "[0.49816512 0.4243972  0.54874168 0.45218626 0.45075582 0.47822717\n",
      " 0.5678486  0.50745357 0.45403145 0.49634792]\n",
      "[19,  2000] losses:\n",
      "[0.44433928 0.35820243 0.48158764 0.39511374 0.38532474 0.4225822\n",
      " 0.52285278 0.44303937 0.40218414 0.4291949 ]\n",
      "[19,  4000] losses:\n",
      "[0.45568037 0.37341092 0.50366684 0.40840883 0.40989041 0.44177016\n",
      " 0.53003646 0.45872575 0.40912553 0.43299597]\n",
      "[19,  6000] losses:\n",
      "[0.45487979 0.36491533 0.50315859 0.40663579 0.40606656 0.42582899\n",
      " 0.52869814 0.45074318 0.41719698 0.45320146]\n",
      "[19,  8000] losses:\n",
      "[0.45753388 0.38384097 0.49630145 0.4030226  0.40323785 0.44562194\n",
      " 0.53116245 0.46738434 0.40349812 0.43904486]\n",
      "[19, 10000] losses:\n",
      "[0.46756483 0.38575051 0.51637983 0.41610634 0.42292127 0.44713782\n",
      " 0.54089639 0.46131264 0.43024252 0.44579783]\n",
      "[20,  2000] losses:\n",
      "[0.42931433 0.34056753 0.47623541 0.37143202 0.36795593 0.40390888\n",
      " 0.49610885 0.43576472 0.38093402 0.39612265]\n",
      "[20,  4000] losses:\n",
      "[0.42516497 0.33201648 0.46942123 0.36125954 0.37692222 0.40191158\n",
      " 0.5000317  0.42075603 0.38225103 0.4031607 ]\n",
      "[20,  6000] losses:\n",
      "[0.43197776 0.3512406  0.47651377 0.38627113 0.3744422  0.40707548\n",
      " 0.50844825 0.43137218 0.3818569  0.41497378]\n",
      "[20,  8000] losses:\n",
      "[0.41973234 0.33861481 0.46787213 0.37627799 0.3796059  0.40721209\n",
      " 0.5122097  0.4223922  0.37842865 0.40928307]\n",
      "[20, 10000] losses:\n",
      "[0.42993424 0.34347407 0.47539273 0.37513674 0.37359875 0.40744469\n",
      " 0.49944242 0.42076951 0.38313179 0.41893464]\n",
      "Finished Training\n"
     ]
    }
   ],
   "source": [
    "# Model training\n",
    "for epoch in range(20):  # loop over the dataset 20 times\n",
    "    running_losses = [0.0 for _ in range(ens_size)]\n",
    "    for i, data in enumerate(trainloader, 0):\n",
    "        # get the inputs\n",
    "        inputs, labels = data\n",
    "        inputs, labels = inputs.to(device), labels.to(device)\n",
    "        \n",
    "        for ens_id in range(ens_size):\n",
    "            # zero the parameter gradients\n",
    "            optimizers[ens_id].zero_grad()\n",
    "\n",
    "            # forward + backward + optimize\n",
    "            outputs = nets[ens_id](inputs)\n",
    "            loss = criterion(outputs, labels)\n",
    "            loss.backward()\n",
    "            optimizers[ens_id].step()\n",
    "            schedulers[ens_id].step()\n",
    "\n",
    "            # print statistics\n",
    "            running_losses[ens_id] += loss.item()\n",
    "        if i % 2000 == 1999:    # print every 2000 mini-batches\n",
    "            print('[%d, %5d] losses:' %(epoch + 1, i + 1))\n",
    "            print(np.array(running_losses) / 2000)\n",
    "            running_losses = [0.0 for _ in range(ens_size)]\n",
    "\n",
    "print('Finished Training')"
   ]
  },
  {
   "cell_type": "code",
   "execution_count": 9,
   "metadata": {},
   "outputs": [],
   "source": [
    "# Optionally, save the ensemble of models to a .pt file\n",
    "for i in range(ens_size):\n",
    "    torch.save(nets[i], f\"model-ens-{i}.pt\")"
   ]
  },
  {
   "cell_type": "markdown",
   "metadata": {},
   "source": [
    "## Evaluation"
   ]
  },
  {
   "cell_type": "code",
   "execution_count": 6,
   "metadata": {},
   "outputs": [],
   "source": [
    "nets = [torch.load(f\"model-ens-{i}.pt\") for i in range(ens_size)]"
   ]
  },
  {
   "cell_type": "code",
   "execution_count": 7,
   "metadata": {},
   "outputs": [],
   "source": [
    "def aggregate_ens_predictions(models, inputs):\n",
    "    \"\"\"\n",
    "    A function that aggregates individual predictions of the ensemble members and returns the average\n",
    "    \"\"\"\n",
    "    preds = []\n",
    "    for model in models:\n",
    "        preds.append(F.softmax(model(inputs)).cpu().detach().numpy())\n",
    "    return np.array(preds).mean(axis = 0)"
   ]
  },
  {
   "cell_type": "code",
   "execution_count": 8,
   "metadata": {},
   "outputs": [
    {
     "name": "stdout",
     "output_type": "stream",
     "text": [
      "Training set... \t1 / 10000\r"
     ]
    },
    {
     "name": "stderr",
     "output_type": "stream",
     "text": [
      "D:\\Anaconda\\lib\\site-packages\\torch\\nn\\functional.py:718: UserWarning: Named tensors and all their associated APIs are an experimental feature and subject to change. Please do not use them for anything important until they are released as stable. (Triggered internally at  ..\\c10/core/TensorImpl.h:1156.)\n",
      "  return torch.max_pool2d(input, kernel_size, stride, padding, dilation, ceil_mode)\n",
      "<ipython-input-7-bc5c4ef208ba>:7: UserWarning: Implicit dimension choice for softmax has been deprecated. Change the call to include dim=X as an argument.\n",
      "  preds.append(F.softmax(model(inputs)).cpu().detach().numpy())\n"
     ]
    },
    {
     "name": "stdout",
     "output_type": "stream",
     "text": [
      "Training accuracy: 95.874%     \n",
      "Validation accuracy: 74.860%\n"
     ]
    }
   ],
   "source": [
    "# Evaluate training and validation accuracy\n",
    "\n",
    "train_hits = []\n",
    "test_hits = []\n",
    "\n",
    "for i, data in enumerate(trainloader):\n",
    "    print(f\"Training set... \\t{i+1} / {len(trainloader)}\", end = '\\r')\n",
    "    inputs, labels = data\n",
    "    inputs = inputs.to(device)\n",
    "    pred_ens = aggregate_ens_predictions(nets, inputs)\n",
    "\n",
    "    train_hits.extend(np.array(np.argmax(pred_ens, axis = 1)) == np.array(labels))\n",
    "    \n",
    "print(\"                               \",end='\\r')\n",
    "\n",
    "for i, data in enumerate(testloader):\n",
    "    print(f\"Validation set... \\t{i+1} / {len(testloader)}\\t\", end = '\\r')\n",
    "    inputs, labels = data\n",
    "    inputs = inputs.to(device)\n",
    "    pred_ens = aggregate_ens_predictions(nets, inputs)\n",
    "\n",
    "    test_hits.extend(np.array(np.argmax(pred_ens, axis = 1)) == np.array(labels))\n",
    "    \n",
    "print(\"                               \",end='\\r')\n",
    "print(f\"Training accuracy: {np.mean(train_hits)*100:.3f}%\")\n",
    "print(f\"Validation accuracy: {np.mean(test_hits)*100:.3f}%\")"
   ]
  },
  {
   "cell_type": "code",
   "execution_count": 9,
   "metadata": {},
   "outputs": [
    {
     "data": {
      "image/png": "[encoded data removed]",
      "text/plain": [
       "<Figure size 720x360 with 1 Axes>"
      ]
     },
     "metadata": {
      "needs_background": "light"
     },
     "output_type": "display_data"
    },
    {
     "name": "stdout",
     "output_type": "stream",
     "text": [
      "          cat          ship          ship         plane          frog\n"
     ]
    },
    {
     "name": "stderr",
     "output_type": "stream",
     "text": [
      "<ipython-input-7-bc5c4ef208ba>:7: UserWarning: Implicit dimension choice for softmax has been deprecated. Change the call to include dim=X as an argument.\n",
      "  preds.append(F.softmax(model(inputs)).cpu().detach().numpy())\n"
     ]
    },
    {
     "data": {
      "image/png": "[encoded data removed]",
      "text/plain": [
       "<Figure size 504x1800 with 5 Axes>"
      ]
     },
     "metadata": {
      "needs_background": "light"
     },
     "output_type": "display_data"
    }
   ],
   "source": [
    "# Predict a batch of validation images and visualise the model output\n",
    "dataiter = iter(testloader)\n",
    "\n",
    "images, labels = dataiter.next()\n",
    "plt.figure(figsize=(10,5))\n",
    "imshow(torchvision.utils.make_grid(images))\n",
    "print(' '.join('%13s' % classes[labels[j]] for j in range(len(images))))\n",
    "\n",
    "images = images.to(device)\n",
    "net_outputs = aggregate_ens_predictions(nets, images)\n",
    "\n",
    "fig, axs = plt.subplots(len(images), 1, figsize=(7,25))\n",
    "plt.setp(axs, xticks=np.arange(10), xticklabels=classes, ylim=(0,1.1), ylabel=\"Model Output\")\n",
    "fig.suptitle('Predictions')\n",
    "\n",
    "for i in range(len(images)):\n",
    "    axs[i].bar(np.arange(10), np.array(net_outputs[i]))\n",
    "    axs[i].set_title(f\"Image {i+1}: {classes[np.argmax(net_outputs[i])]} ({net_outputs[i].max()*100:.2f}%)\")\n",
    "plt.show()"
   ]
  },
  {
   "cell_type": "code",
   "execution_count": null,
   "metadata": {},
   "outputs": [],
   "source": []
  }
 ],
 "metadata": {
  "kernelspec": {
   "display_name": "Python 3",
   "language": "python",
   "name": "python3"
  },
  "language_info": {
   "codemirror_mode": {
    "name": "ipython",
    "version": 3
   },
   "file_extension": ".py",
   "mimetype": "text/x-python",
   "name": "python",
   "nbconvert_exporter": "python",
   "pygments_lexer": "ipython3",
   "version": "3.8.3"
  }
 },
 "nbformat": 4,
 "nbformat_minor": 4
}
